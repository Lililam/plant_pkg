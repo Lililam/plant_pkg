{
 "cells": [
  {
   "cell_type": "markdown",
   "id": "2bbf38f0",
   "metadata": {},
   "source": [
    "# 1. Create a Jupyter Notebook\n",
    "#### Create a jupyter notebook. Give it a proper structure by using markdown headings to separate the questions. Link your favorite data science blog and insert a picture of the blog logo. Briefly mention why you like that blog specifically."
   ]
  },
  {
   "cell_type": "markdown",
   "id": "6cfb091d",
   "metadata": {},
   "source": [
    "[O’Reilly® Radar](https://www.oreilly.com/radar/)"
   ]
  },
  {
   "cell_type": "markdown",
   "id": "8d227f30",
   "metadata": {},
   "source": [
    "![Fail to load image](https://cdn.oreillystatic.com/images/sitewide-headers/oreilly_logo_mark_red.svg)"
   ]
  },
  {
   "cell_type": "markdown",
   "id": "3befa9a9",
   "metadata": {},
   "source": [
    "##### I choose it because it has the field focus on AI/ML specifically, and includes plenty of updated information from the industries, which will be helpful for my future work finding."
   ]
  },
  {
   "cell_type": "markdown",
   "id": "1cb1f66d",
   "metadata": {},
   "source": [
    "# 2. Markdown quote\n",
    "#### Using markdown, add an inspiring quote from a someone you admire formatted as a block quote and the origin of the quote in italics."
   ]
  },
  {
   "cell_type": "markdown",
   "id": "5a5980b0",
   "metadata": {},
   "source": [
    "> A rose by any other name would smell as sweet.\n",
    "> *William Shakespeare*"
   ]
  },
  {
   "cell_type": "markdown",
   "id": "544240a1",
   "metadata": {},
   "source": [
    "# 3. Latex formula and plot\n",
    "#### Create a series x of range 0 to 1000 and a series y which is any non-linear function of x (Hint: if you cant' think of a fun formula, stick with the quadratic function). Use the plotting package of your choice to graph the function. Add the latex formula of the function you plotted in the text below."
   ]
  },
  {
   "cell_type": "code",
   "execution_count": 8,
   "id": "8d1a2125",
   "metadata": {},
   "outputs": [],
   "source": [
    "import numpy as np\n",
    "import matplotlib.pyplot as plt"
   ]
  },
  {
   "cell_type": "code",
   "execution_count": 21,
   "id": "2ae6430f",
   "metadata": {},
   "outputs": [],
   "source": [
    "x = np.arange(-1,10001)"
   ]
  },
  {
   "cell_type": "code",
   "execution_count": 22,
   "id": "562d66f7",
   "metadata": {},
   "outputs": [],
   "source": [
    "y = x**2-7*x-10"
   ]
  },
  {
   "cell_type": "code",
   "execution_count": 39,
   "id": "4055c4e2",
   "metadata": {},
   "outputs": [
    {
     "data": {
      "text/plain": [
       "<matplotlib.legend.Legend at 0x111e60790>"
      ]
     },
     "execution_count": 39,
     "metadata": {},
     "output_type": "execute_result"
    },
    {
     "data": {
      "image/png": "[encoded data removed]",
      "text/plain": [
       "<Figure size 640x480 with 1 Axes>"
      ]
     },
     "metadata": {},
     "output_type": "display_data"
    }
   ],
   "source": [
    "plt.plot(x,y,label=r'$y = x^2 - 7x - 10$')\n",
    "plt.xlabel('$y = x^2 - 7x - 10$')\n",
    "plt.legend()"
   ]
  },
  {
   "cell_type": "markdown",
   "id": "5ddc96a0",
   "metadata": {},
   "source": [
    "# 4. Markdown table\n",
    "#### Add a markdown table that lists 5 useful python packages (of your choice) in the first column and the associated number of github stars (as a a measure of their popularity) in the second column (e.g. Pandas currently has 37.9k stars)."
   ]
  },
  {
   "cell_type": "markdown",
   "id": "5315c613",
   "metadata": {},
   "source": [
    "| Python Package       | GitHub Stars |\n",
    "|----------------------|--------------|\n",
    "| NumPy                | 24.5k        |\n",
    "| PyTorch              | 70.9k        |\n",
    "| Matplotlib           | 18.1k        |\n",
    "| scikit-learn         | 55.9k        |\n",
    "| TensorFlow           | 178k         |\n"
   ]
  },
  {
   "cell_type": "markdown",
   "id": "a49b2dec",
   "metadata": {},
   "source": [
    "# 5. Execute shell command\n",
    "#### From your notebook, execute a bash command that shows what your current working directory is (Note: I did not show the specific command in lecture -- I want you to engage with bash a tiny bit to find it.)"
   ]
  },
  {
   "cell_type": "code",
   "execution_count": 40,
   "id": "b3097ebc",
   "metadata": {},
   "outputs": [],
   "source": [
    "import os"
   ]
  },
  {
   "cell_type": "code",
   "execution_count": 42,
   "id": "b6c62334",
   "metadata": {},
   "outputs": [
    {
     "data": {
      "text/plain": [
       "'/Users/lily'"
      ]
     },
     "execution_count": 42,
     "metadata": {},
     "output_type": "execute_result"
    }
   ],
   "source": [
    "os.getcwd()"
   ]
  },
  {
   "cell_type": "markdown",
   "id": "ef257a9c",
   "metadata": {},
   "source": [
    "# 6. Run some external script\n",
    "#### In your homework folder, create a separate python script that does nothing but print The answer is 42. Import (using a relative path) and execute the code from that external script in your notebook (Hint: the iPython magic commands will work well here. While you are at it, I suggest to check out these handy commands.)"
   ]
  },
  {
   "cell_type": "code",
   "execution_count": 49,
   "id": "7fa3c5e8",
   "metadata": {},
   "outputs": [
    {
     "name": "stdout",
     "output_type": "stream",
     "text": [
      "The answer is 42\n"
     ]
    }
   ],
   "source": [
    "%run \"/Users/lily/Downloads/External Script.py\"\n"
   ]
  },
  {
   "cell_type": "code",
   "execution_count": null,
   "id": "f866aed7",
   "metadata": {},
   "outputs": [],
   "source": []
  }
 ],
 "metadata": {
  "kernelspec": {
   "display_name": "Python 3 (ipykernel)",
   "language": "python",
   "name": "python3"
  },
  "language_info": {
   "codemirror_mode": {
    "name": "ipython",
    "version": 3
   },
   "file_extension": ".py",
   "mimetype": "text/x-python",
   "name": "python",
   "nbconvert_exporter": "python",
   "pygments_lexer": "ipython3",
   "version": "3.11.4"
  }
 },
 "nbformat": 4,
 "nbformat_minor": 5
}
