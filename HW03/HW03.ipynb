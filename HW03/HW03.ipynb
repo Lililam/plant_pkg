{
 "cells": [
  {
   "cell_type": "code",
   "execution_count": 183,
   "id": "f4c51e87",
   "metadata": {},
   "outputs": [],
   "source": [
    "import pandas as pd\n",
    "import scipy.stats as stats\n",
    "import numpy as np\n"
   ]
  },
  {
   "cell_type": "markdown",
   "id": "4c8ffe5a",
   "metadata": {},
   "source": [
    "### 1. Cost of translation\n",
    "#### a) Provide a python function called cost_of_translation that takes as parameters:"
   ]
  },
  {
   "cell_type": "code",
   "execution_count": 184,
   "id": "b6b67542",
   "metadata": {},
   "outputs": [],
   "source": [
    "def add_f(num_of_words: int, type: str,rush: bool) -> float:\n",
    "    def type_rate(type: str)-> float:\n",
    "        if type == 'standard':\n",
    "            return 0.05\n",
    "        elif type == 'certified':\n",
    "            return 0.10\n",
    "        elif type == 'notarized':\n",
    "            return 0.12\n",
    "    def rush_rate(rush:str)-> float:\n",
    "        if rush == True:\n",
    "            rush_rate = 1.5\n",
    "        elif rush == False:\n",
    "            rush_rate = 1\n",
    "        return rush_rate\n",
    "    \n",
    "    return num_of_words*type_rate(type)*rush_rate(rush)\n"
   ]
  },
  {
   "cell_type": "code",
   "execution_count": 185,
   "id": "07724437",
   "metadata": {},
   "outputs": [
    {
     "name": "stdout",
     "output_type": "stream",
     "text": [
      "The cost of translation is:  50.0\n"
     ]
    }
   ],
   "source": [
    "print(\"The cost of translation is: \", add_f(1000,'standard',False))"
   ]
  },
  {
   "cell_type": "markdown",
   "id": "52617873",
   "metadata": {},
   "source": [
    "#### b) We now want to provide information on the applicable sales tax as well. Write a separate function called sales_tax which takes in the cost of translation and returns the total amount of sales tax. Make sure this function has a tax_rate parameter and set the default to 10 percent. Show the function output for a standard document of 1000 words and not needed urgently."
   ]
  },
  {
   "cell_type": "code",
   "execution_count": 186,
   "id": "f6cef6f7",
   "metadata": {},
   "outputs": [],
   "source": [
    "def sales_tax(cost: float,tax_rate = 0.1):\n",
    "    return tax_rate*cost"
   ]
  },
  {
   "cell_type": "code",
   "execution_count": 187,
   "id": "5a94f8cd",
   "metadata": {},
   "outputs": [
    {
     "name": "stdout",
     "output_type": "stream",
     "text": [
      "The total sales tax is: 5.0\n"
     ]
    }
   ],
   "source": [
    "print(\"The total sales tax is:\",sales_tax(add_f(1000,'standard',False)))"
   ]
  },
  {
   "cell_type": "markdown",
   "id": "f6aa1a70",
   "metadata": {},
   "source": [
    "#### c) Due to a quirk in the tax law, notarized translations are exempt from sales tax. Modify the sales_tax function to reflect this (call it sales_tax_notary now). Show the function output for a document of 1000 words that is notarized and not needed urgently."
   ]
  },
  {
   "cell_type": "code",
   "execution_count": 188,
   "id": "799b0f1f",
   "metadata": {},
   "outputs": [],
   "source": [
    "def sales_tax_notary(cost,trans_type,tax_rate = 0.1):\n",
    "    if trans_type == 'notarized':\n",
    "        tax_rate = 0\n",
    "        return 0\n",
    "    else:\n",
    "        return tax_rate*cost"
   ]
  },
  {
   "cell_type": "code",
   "execution_count": 189,
   "id": "d550d1ce",
   "metadata": {},
   "outputs": [
    {
     "name": "stdout",
     "output_type": "stream",
     "text": [
      "The total sales tax is: 0\n"
     ]
    }
   ],
   "source": [
    "print(\"The total sales tax is:\",sales_tax_notary(add_f(1000,'notarized',False),'notarized'))"
   ]
  },
  {
   "cell_type": "markdown",
   "id": "bf2e376e",
   "metadata": {},
   "source": [
    "#### d) Now combine the functions cost_of_translation and sales_tax_notary into a third function called translation_calculator. The function translation_calculator only has one required input, num_of_words, but also allows for an optional set of additional keyword arguments that can be passed to the relevant two sub-functions."
   ]
  },
  {
   "cell_type": "code",
   "execution_count": 190,
   "id": "6b5ed6df",
   "metadata": {},
   "outputs": [],
   "source": [
    "def translation_calculator(num_of_words:int,type = 'standard',rush = False,tax_rate = 0.1):\n",
    "    add_f(num_of_words,type,rush)\n",
    "    cost = add_f(num_of_words,type,rush)\n",
    "    \n",
    "    if rush == False:\n",
    "        rush_rate = 1\n",
    "    else:\n",
    "        rush_rate = 1.5\n",
    "        \n",
    "    sales_tax_notary(add_f(num_of_words,type,rush),type,tax_rate)\n",
    "    sales_tax = sales_tax_notary(add_f(num_of_words,type,rush),type,tax_rate)\n",
    "    total_cost = sales_tax+cost\n",
    "    \n",
    "    print(\"Number of Words: \", num_of_words)\n",
    "    print(\"Type of translation:\", type)\n",
    "    print(\"Rush order:\", rush)\n",
    "    print(\"Rate per word:\",rush_rate)\n",
    "    print(\"---------------------------\")\n",
    "    print(\"Cost of translation:\", cost)\n",
    "    print(\"Sales tax:\", sales_tax)\n",
    "    print(\"---------------------------\")\n",
    "    print(\"Total cost: \",total_cost)"
   ]
  },
  {
   "cell_type": "code",
   "execution_count": 191,
   "id": "35dfaaeb",
   "metadata": {},
   "outputs": [
    {
     "name": "stdout",
     "output_type": "stream",
     "text": [
      "Number of Words:  1000\n",
      "Type of translation: notarized\n",
      "Rush order: True\n",
      "Rate per word: 1.5\n",
      "---------------------------\n",
      "Cost of translation: 180.0\n",
      "Sales tax: 0\n",
      "---------------------------\n",
      "Total cost:  180.0\n"
     ]
    }
   ],
   "source": [
    "translation_calculator(1000,'notarized',True)"
   ]
  },
  {
   "cell_type": "markdown",
   "id": "86114955",
   "metadata": {},
   "source": [
    "### 2. Error handling\n"
   ]
  },
  {
   "cell_type": "markdown",
   "id": "04e0caa3",
   "metadata": {},
   "source": [
    "#### a) Your friend was happy about your work but recently noticed some issues. She asks you to make sure that the translation_calculator function only accepts:\n",
    "\n",
    "#### a positive number of words\n",
    "#### the types of translations you planned for in your function"
   ]
  },
  {
   "cell_type": "code",
   "execution_count": 192,
   "id": "a5b0f81b",
   "metadata": {},
   "outputs": [],
   "source": [
    "def translation_calculator(num_of_words:int,type = 'standard',rush = False,tax_rate = 0.1):\n",
    "    assert isinstance(num_of_words, int) and num_of_words > 0, f\"Number of words must be positive integer.\"\n",
    "    assert type in ['standard', 'certified', 'notarized'],f\"Invalid document type, document type must be standard,certified or notarized.\"\n",
    "    \n",
    "    add_f(num_of_words,type,rush)\n",
    "    cost = add_f(num_of_words,type,rush)\n",
    "    \n",
    "    if rush == False:\n",
    "        rush_rate = 1\n",
    "    else:\n",
    "        rush_rate = 1.5\n",
    "        \n",
    "    sales_tax_notary(add_f(num_of_words,type,rush),type,tax_rate)\n",
    "    sales_tax = sales_tax_notary(add_f(num_of_words,type,rush),type,tax_rate)\n",
    "    total_cost = sales_tax+cost\n",
    "    \n",
    "    print(\"Number of Words: \", num_of_words)\n",
    "    print(\"Type of translation:\", type)\n",
    "    print(\"Rush order:\", rush)\n",
    "    print(\"Rate per word:\",rush_rate)\n",
    "    print(\"---------------------------\")\n",
    "    print(\"Cost of translation:\", cost)\n",
    "    print(\"Sales tax:\", sales_tax)\n",
    "    print(\"---------------------------\")\n",
    "    print(\"Total cost: \",total_cost)"
   ]
  },
  {
   "cell_type": "code",
   "execution_count": 193,
   "id": "eaab1c7e",
   "metadata": {},
   "outputs": [
    {
     "ename": "AssertionError",
     "evalue": "Number of words must be positive integer.",
     "output_type": "error",
     "traceback": [
      "\u001b[0;31m---------------------------------------------------------------------------\u001b[0m",
      "\u001b[0;31mAssertionError\u001b[0m                            Traceback (most recent call last)",
      "Cell \u001b[0;32mIn[193], line 1\u001b[0m\n\u001b[0;32m----> 1\u001b[0m translation_calculator(\u001b[38;5;241m0\u001b[39m)\n",
      "Cell \u001b[0;32mIn[192], line 2\u001b[0m, in \u001b[0;36mtranslation_calculator\u001b[0;34m(num_of_words, type, rush, tax_rate)\u001b[0m\n\u001b[1;32m      1\u001b[0m \u001b[38;5;28;01mdef\u001b[39;00m \u001b[38;5;21mtranslation_calculator\u001b[39m(num_of_words:\u001b[38;5;28mint\u001b[39m,\u001b[38;5;28mtype\u001b[39m \u001b[38;5;241m=\u001b[39m \u001b[38;5;124m'\u001b[39m\u001b[38;5;124mstandard\u001b[39m\u001b[38;5;124m'\u001b[39m,rush \u001b[38;5;241m=\u001b[39m \u001b[38;5;28;01mFalse\u001b[39;00m,tax_rate \u001b[38;5;241m=\u001b[39m \u001b[38;5;241m0.1\u001b[39m):\n\u001b[0;32m----> 2\u001b[0m     \u001b[38;5;28;01massert\u001b[39;00m \u001b[38;5;28misinstance\u001b[39m(num_of_words, \u001b[38;5;28mint\u001b[39m) \u001b[38;5;129;01mand\u001b[39;00m num_of_words \u001b[38;5;241m>\u001b[39m \u001b[38;5;241m0\u001b[39m, \u001b[38;5;124mf\u001b[39m\u001b[38;5;124m\"\u001b[39m\u001b[38;5;124mNumber of words must be positive integer.\u001b[39m\u001b[38;5;124m\"\u001b[39m\n\u001b[1;32m      3\u001b[0m     \u001b[38;5;28;01massert\u001b[39;00m \u001b[38;5;28mtype\u001b[39m \u001b[38;5;129;01min\u001b[39;00m [\u001b[38;5;124m'\u001b[39m\u001b[38;5;124mstandard\u001b[39m\u001b[38;5;124m'\u001b[39m, \u001b[38;5;124m'\u001b[39m\u001b[38;5;124mcertified\u001b[39m\u001b[38;5;124m'\u001b[39m, \u001b[38;5;124m'\u001b[39m\u001b[38;5;124mnotarized\u001b[39m\u001b[38;5;124m'\u001b[39m],\u001b[38;5;124mf\u001b[39m\u001b[38;5;124m\"\u001b[39m\u001b[38;5;124mInvalid document type, document type must be standard,certified or notarized.\u001b[39m\u001b[38;5;124m\"\u001b[39m\n\u001b[1;32m      5\u001b[0m     add_f(num_of_words,\u001b[38;5;28mtype\u001b[39m,rush)\n",
      "\u001b[0;31mAssertionError\u001b[0m: Number of words must be positive integer."
     ]
    }
   ],
   "source": [
    "translation_calculator(0)"
   ]
  },
  {
   "cell_type": "code",
   "execution_count": 194,
   "id": "782665e6",
   "metadata": {
    "scrolled": true
   },
   "outputs": [
    {
     "ename": "AssertionError",
     "evalue": "Invalid document type, document type must be standard,certified or notarized.",
     "output_type": "error",
     "traceback": [
      "\u001b[0;31m---------------------------------------------------------------------------\u001b[0m",
      "\u001b[0;31mAssertionError\u001b[0m                            Traceback (most recent call last)",
      "Cell \u001b[0;32mIn[194], line 1\u001b[0m\n\u001b[0;32m----> 1\u001b[0m translation_calculator(\u001b[38;5;241m1000\u001b[39m,\u001b[38;5;124m'\u001b[39m\u001b[38;5;124mnew\u001b[39m\u001b[38;5;124m'\u001b[39m)\n",
      "Cell \u001b[0;32mIn[192], line 3\u001b[0m, in \u001b[0;36mtranslation_calculator\u001b[0;34m(num_of_words, type, rush, tax_rate)\u001b[0m\n\u001b[1;32m      1\u001b[0m \u001b[38;5;28;01mdef\u001b[39;00m \u001b[38;5;21mtranslation_calculator\u001b[39m(num_of_words:\u001b[38;5;28mint\u001b[39m,\u001b[38;5;28mtype\u001b[39m \u001b[38;5;241m=\u001b[39m \u001b[38;5;124m'\u001b[39m\u001b[38;5;124mstandard\u001b[39m\u001b[38;5;124m'\u001b[39m,rush \u001b[38;5;241m=\u001b[39m \u001b[38;5;28;01mFalse\u001b[39;00m,tax_rate \u001b[38;5;241m=\u001b[39m \u001b[38;5;241m0.1\u001b[39m):\n\u001b[1;32m      2\u001b[0m     \u001b[38;5;28;01massert\u001b[39;00m \u001b[38;5;28misinstance\u001b[39m(num_of_words, \u001b[38;5;28mint\u001b[39m) \u001b[38;5;129;01mand\u001b[39;00m num_of_words \u001b[38;5;241m>\u001b[39m \u001b[38;5;241m0\u001b[39m, \u001b[38;5;124mf\u001b[39m\u001b[38;5;124m\"\u001b[39m\u001b[38;5;124mNumber of words must be positive integer.\u001b[39m\u001b[38;5;124m\"\u001b[39m\n\u001b[0;32m----> 3\u001b[0m     \u001b[38;5;28;01massert\u001b[39;00m \u001b[38;5;28mtype\u001b[39m \u001b[38;5;129;01min\u001b[39;00m [\u001b[38;5;124m'\u001b[39m\u001b[38;5;124mstandard\u001b[39m\u001b[38;5;124m'\u001b[39m, \u001b[38;5;124m'\u001b[39m\u001b[38;5;124mcertified\u001b[39m\u001b[38;5;124m'\u001b[39m, \u001b[38;5;124m'\u001b[39m\u001b[38;5;124mnotarized\u001b[39m\u001b[38;5;124m'\u001b[39m],\u001b[38;5;124mf\u001b[39m\u001b[38;5;124m\"\u001b[39m\u001b[38;5;124mInvalid document type, document type must be standard,certified or notarized.\u001b[39m\u001b[38;5;124m\"\u001b[39m\n\u001b[1;32m      5\u001b[0m     add_f(num_of_words,\u001b[38;5;28mtype\u001b[39m,rush)\n\u001b[1;32m      6\u001b[0m     cost \u001b[38;5;241m=\u001b[39m add_f(num_of_words,\u001b[38;5;28mtype\u001b[39m,rush)\n",
      "\u001b[0;31mAssertionError\u001b[0m: Invalid document type, document type must be standard,certified or notarized."
     ]
    }
   ],
   "source": [
    "translation_calculator(1000,'new')"
   ]
  },
  {
   "cell_type": "markdown",
   "id": "e7341766",
   "metadata": {},
   "source": [
    "#### b) Your friend does like that no erroneous values come through anymore but her customers don't really understand your Python generated warnings. Remove the assertions from (2a) and use a try-except setup to catch all errors that arise and simply ask the user (via a printed message) to Please check your input values.\n",
    "\n"
   ]
  },
  {
   "cell_type": "code",
   "execution_count": 195,
   "id": "58fd767c",
   "metadata": {},
   "outputs": [],
   "source": [
    "def translation_calculator(num_of_words:int,type = 'standard',rush = False,tax_rate = 0.1):\n",
    "    try:\n",
    "        if not isinstance(num_of_words, int) or num_of_words <= 0:\n",
    "            raise ValueError(\"Please check your input values.\")\n",
    "        if type not in ['standard', 'certified', 'notarized']:\n",
    "            raise TypeError(\"Please check your input values.\")\n",
    "        if not isinstance(rush, bool):\n",
    "            raise TypeError(\"Please check your input values.\")\n",
    "        if not isinstance(tax_rate, float) or tax_rate <= 0:\n",
    "            raise ValueError(\"Please check your input values.\")\n",
    "        \n",
    "        add_f(num_of_words,type,rush)\n",
    "        cost = add_f(num_of_words,type,rush)\n",
    "    \n",
    "        if rush == False:\n",
    "            rush_rate = 1\n",
    "        else:\n",
    "            rush_rate = 1.5\n",
    "        \n",
    "        sales_tax_notary(add_f(num_of_words,type,rush),type,tax_rate)\n",
    "        sales_tax = sales_tax_notary(add_f(num_of_words,type,rush),type,tax_rate)\n",
    "        total_cost = sales_tax+cost\n",
    "    \n",
    "        print(\"Number of Words: \", num_of_words)\n",
    "        print(\"Type of translation:\", type)\n",
    "        print(\"Rush order:\", rush)\n",
    "        print(\"Rate per word:\",rush_rate)\n",
    "        print(\"---------------------------\")\n",
    "        print(\"Cost of translation:\", cost)\n",
    "        print(\"Sales tax:\", sales_tax)\n",
    "        print(\"---------------------------\")\n",
    "        print(\"Total cost: \",total_cost)\n",
    "        \n",
    "    except (ValueError,TypeError) as error:\n",
    "         print(f\"Error: {error}\")"
   ]
  },
  {
   "cell_type": "code",
   "execution_count": 196,
   "id": "c7feb919",
   "metadata": {},
   "outputs": [
    {
     "name": "stdout",
     "output_type": "stream",
     "text": [
      "Error: Please check your input values.\n"
     ]
    }
   ],
   "source": [
    "translation_calculator(-5)"
   ]
  },
  {
   "cell_type": "code",
   "execution_count": null,
   "id": "85e62867",
   "metadata": {},
   "outputs": [],
   "source": []
  },
  {
   "cell_type": "code",
   "execution_count": null,
   "id": "b818f975",
   "metadata": {},
   "outputs": [],
   "source": []
  }
 ],
 "metadata": {
  "kernelspec": {
   "display_name": "Python 3 (ipykernel)",
   "language": "python",
   "name": "python3"
  },
  "language_info": {
   "codemirror_mode": {
    "name": "ipython",
    "version": 3
   },
   "file_extension": ".py",
   "mimetype": "text/x-python",
   "name": "python",
   "nbconvert_exporter": "python",
   "pygments_lexer": "ipython3",
   "version": "3.11.4"
  }
 },
 "nbformat": 4,
 "nbformat_minor": 5
}
