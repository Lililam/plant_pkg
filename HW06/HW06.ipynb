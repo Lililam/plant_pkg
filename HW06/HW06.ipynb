{
 "cells": [
  {
   "cell_type": "markdown",
   "id": "9553ae23",
   "metadata": {},
   "source": [
    "# 1. Test the is_prime and generate_primes functions"
   ]
  },
  {
   "cell_type": "markdown",
   "id": "5d5b8f6a",
   "metadata": {},
   "source": [
    "#### a) Write a test function test_is_prime that checks the is_prime function using a set of known prime numbers (e.g., 2, 7) and composite numbers (e.g. 8, 9)."
   ]
  },
  {
   "cell_type": "code",
   "execution_count": null,
   "id": "c98ae2a4",
   "metadata": {},
   "outputs": [],
   "source": [
    "from func import is_prime, generate_primes\n",
    "import pytest"
   ]
  },
  {
   "cell_type": "code",
   "execution_count": 89,
   "id": "00a4bea9",
   "metadata": {},
   "outputs": [],
   "source": [
    "def test_is_prime():\n",
    "    assert is_prime(2) == True, \"2 should be a prime number\"\n",
    "    assert is_prime(7) == True, \"7 should be a prime number\"\n",
    "    assert is_prime(8) == False, \"8 should not be a prime number\"\n",
    "    assert is_prime(9) == False, \"9 should not be a prime number\""
   ]
  },
  {
   "cell_type": "markdown",
   "id": "6465a776",
   "metadata": {},
   "source": [
    "#### b) Parameterize a test function test_is_prime_param to check the is_prime function with various numbers of primes and composite numbers, including edge cases such as negative numbers, 0, and 1."
   ]
  },
  {
   "cell_type": "code",
   "execution_count": 90,
   "id": "e6c617fe",
   "metadata": {},
   "outputs": [],
   "source": [
    "@pytest.mark.parametrize(\"example, expected\",[\n",
    "    (2, True), # 2 is a prime number\n",
    "    (7, True), # 7 is a prime number\n",
    "    (8, False), # 8 is not a prime number\n",
    "    (9, False), # 9 is not a prime number\n",
    "    (-1, False), # testing negative number\n",
    "    (0, False), # testing edge number 0\n",
    "    (1, False), # testing edge number 1\n",
    "])\n",
    "def test_is_prime_param(example, expected):\n",
    "    result = is_prime(example)\n",
    "    assert result == expected "
   ]
  },
  {
   "cell_type": "markdown",
   "id": "c84cc457",
   "metadata": {},
   "source": [
    "#### c) Write a test function test_generate_primes to check the generate_primes function with various limits including edge cases such as negative numbers, 0, and 1."
   ]
  },
  {
   "cell_type": "code",
   "execution_count": 85,
   "id": "7811aae9",
   "metadata": {},
   "outputs": [],
   "source": [
    "def test_generate_primes():\n",
    "    result = generate_primes(10)\n",
    "    assert result == [2, 3, 5, 7], \"Failed for limit = 10\"\n",
    "    \n",
    "    result = generate_primes(1)\n",
    "    assert result == [], \"Failed for limit = 1\"\n",
    "    \n",
    "    result = generate_primes(0)\n",
    "    assert result == [], \"Failed for limit = 0\"\n",
    "    \n",
    "    with pytest.raises(ValueError):\n",
    "        generate_primes(-1)"
   ]
  },
  {
   "cell_type": "markdown",
   "id": "e696e0e3",
   "metadata": {},
   "source": [
    "#### d) Write an integration test test_prime_integration that uses the generate_primes function to generate a list of prime numbers, and then checks the correctness of each prime number using the is_prime function."
   ]
  },
  {
   "cell_type": "code",
   "execution_count": 86,
   "id": "67b17280",
   "metadata": {},
   "outputs": [],
   "source": [
    "def test_prime_integration():\n",
    "    result = generate_primes(10)\n",
    "    for i in results:\n",
    "        assert is_prime(i), f\"{i} is not a prime number.\""
   ]
  },
  {
   "cell_type": "markdown",
   "id": "53f99b18",
   "metadata": {},
   "source": [
    "#### e) Add the tests from 1a, 1b, 1c, and 1d to a file called test_prime.py in your folder. Run all the tests from your command line using pytest (and verbosity setting -vv), and include the output in your homework solution."
   ]
  },
  {
   "cell_type": "code",
   "execution_count": 100,
   "id": "88ac0a7a",
   "metadata": {},
   "outputs": [
    {
     "name": "stdout",
     "output_type": "stream",
     "text": [
      "\u001b[1m============================= test session starts ==============================\u001b[0m\n",
      "platform darwin -- Python 3.11.4, pytest-7.4.0, pluggy-1.0.0 -- /Users/lily/anaconda3/bin/python\n",
      "cachedir: .pytest_cache\n",
      "rootdir: /Users/lily/Documents/GitHub/Lin_Lili/HW06\n",
      "plugins: anyio-3.5.0, typeguard-2.13.3\n",
      "collected 10 items                                                             \u001b[0m\n",
      "\n",
      "test_prime.py::test_is_prime \u001b[32mPASSED\u001b[0m\u001b[32m                                      [ 10%]\u001b[0m\n",
      "test_prime.py::test_is_prime_param[2-True] \u001b[32mPASSED\u001b[0m\u001b[32m                        [ 20%]\u001b[0m\n",
      "test_prime.py::test_is_prime_param[7-True] \u001b[32mPASSED\u001b[0m\u001b[32m                        [ 30%]\u001b[0m\n",
      "test_prime.py::test_is_prime_param[8-False] \u001b[32mPASSED\u001b[0m\u001b[32m                       [ 40%]\u001b[0m\n",
      "test_prime.py::test_is_prime_param[9-False] \u001b[32mPASSED\u001b[0m\u001b[32m                       [ 50%]\u001b[0m\n",
      "test_prime.py::test_is_prime_param[-1-False] \u001b[32mPASSED\u001b[0m\u001b[32m                      [ 60%]\u001b[0m\n",
      "test_prime.py::test_is_prime_param[0-False] \u001b[32mPASSED\u001b[0m\u001b[32m                       [ 70%]\u001b[0m\n",
      "test_prime.py::test_is_prime_param[1-False] \u001b[32mPASSED\u001b[0m\u001b[32m                       [ 80%]\u001b[0m\n",
      "test_prime.py::test_generate_primes \u001b[32mPASSED\u001b[0m\u001b[32m                               [ 90%]\u001b[0m\n",
      "test_prime.py::test_prime_integration \u001b[32mPASSED\u001b[0m\u001b[32m                             [100%]\u001b[0m\n",
      "\n",
      "\u001b[32m============================== \u001b[32m\u001b[1m10 passed\u001b[0m\u001b[32m in 0.03s\u001b[0m\u001b[32m ==============================\u001b[0m\n"
     ]
    }
   ],
   "source": [
    "!pytest test_prime.py -vv"
   ]
  },
  {
   "cell_type": "markdown",
   "id": "8d40dc6f",
   "metadata": {},
   "source": [
    "# 2. Advanced Testing"
   ]
  },
  {
   "cell_type": "markdown",
   "id": "57d77351",
   "metadata": {},
   "source": [
    "#### a) Utilize the @pytest.mark.parametrize decorator to create a more extensive parameterized test for the generate_primes function. Include various edge cases and compare the output against known prime number sequences."
   ]
  },
  {
   "cell_type": "code",
   "execution_count": 102,
   "id": "f65988ec",
   "metadata": {},
   "outputs": [],
   "source": [
    "@pytest.mark.parametrize(\"example, expectation\",[\n",
    "    (10, [2, 3, 5, 7]),\n",
    "    (20, [2, 3, 5, 7, 11, 13, 17, 19]),\n",
    "    (3,[2, 3]), # edge case\n",
    "    (1, []), # edge case\n",
    "    (0, []), # edge case\n",
    "    (-1, [])]) # edge case\n",
    "def test_generate_primes_parameterized(example, expectation):\n",
    "    result = generate_primes(example)\n",
    "    assert result == expectation, f\"Failed to generate prime number from {example}.\""
   ]
  },
  {
   "cell_type": "markdown",
   "id": "f1f8d4df",
   "metadata": {},
   "source": [
    "#### b) Use the pytest fixture functionality to create a common setup for generating a list of prime numbers which will be used in multiple test functions. Ensure that this fixture is utilized efficiently to reduce the overall test execution time."
   ]
  },
  {
   "cell_type": "code",
   "execution_count": 106,
   "id": "f05d8915",
   "metadata": {},
   "outputs": [],
   "source": [
    "@pytest.fixture\n",
    "def prime_numbers():\n",
    "    return generate_primes(50)\n",
    "def test_prime_using_fixture(prime_numbers):\n",
    "    for i in prime_numbers:\n",
    "        assert is_prime(i), f\"{i} is not a prime number\"\n",
    "def test_generate_primes_with_fixture(prime_numbers):\n",
    "    result = generate_primes(50) \n",
    "    assert result == prime_numbers[:50], \"Failed for limit = 50\"\n",
    "    assert result[0] == 2, \"Unexpected first prime\"\n",
    "    assert result[-1] == 47, \"Unexpected last prime\""
   ]
  },
  {
   "cell_type": "code",
   "execution_count": 110,
   "id": "7c002793",
   "metadata": {},
   "outputs": [
    {
     "name": "stdout",
     "output_type": "stream",
     "text": [
      "\u001b[1m============================= test session starts ==============================\u001b[0m\n",
      "platform darwin -- Python 3.11.4, pytest-7.4.0, pluggy-1.0.0 -- /Users/lily/anaconda3/bin/python\n",
      "cachedir: .pytest_cache\n",
      "rootdir: /Users/lily/Documents/GitHub/Lin_Lili/HW06\n",
      "plugins: anyio-3.5.0, typeguard-2.13.3\n",
      "collected 8 items                                                              \u001b[0m\n",
      "\n",
      "advanced_test.py::test_generate_primes_parameterized[10-expectation0] \u001b[32mPASSED\u001b[0m\u001b[32m [ 12%]\u001b[0m\n",
      "advanced_test.py::test_generate_primes_parameterized[20-expectation1] \u001b[32mPASSED\u001b[0m\u001b[32m [ 25%]\u001b[0m\n",
      "advanced_test.py::test_generate_primes_parameterized[3-expectation2] \u001b[32mPASSED\u001b[0m\u001b[32m [ 37%]\u001b[0m\n",
      "advanced_test.py::test_generate_primes_parameterized[1-expectation3] \u001b[32mPASSED\u001b[0m\u001b[32m [ 50%]\u001b[0m\n",
      "advanced_test.py::test_generate_primes_parameterized[0-expectation4] \u001b[32mPASSED\u001b[0m\u001b[32m [ 62%]\u001b[0m\n",
      "advanced_test.py::test_generate_primes_parameterized[-1-expectation5] \u001b[32mPASSED\u001b[0m\u001b[32m [ 75%]\u001b[0m\n",
      "advanced_test.py::test_prime_using_fixture \u001b[32mPASSED\u001b[0m\u001b[32m                        [ 87%]\u001b[0m\n",
      "advanced_test.py::test_generate_primes_with_fixture \u001b[32mPASSED\u001b[0m\u001b[32m               [100%]\u001b[0m\n",
      "\n",
      "\u001b[32m============================== \u001b[32m\u001b[1m8 passed\u001b[0m\u001b[32m in 0.02s\u001b[0m\u001b[32m ===============================\u001b[0m\n"
     ]
    }
   ],
   "source": [
    "!pytest advanced_test.py -vv"
   ]
  },
  {
   "cell_type": "code",
   "execution_count": null,
   "id": "c35601f1",
   "metadata": {},
   "outputs": [],
   "source": []
  }
 ],
 "metadata": {
  "kernelspec": {
   "display_name": "Python 3 (ipykernel)",
   "language": "python",
   "name": "python3"
  },
  "language_info": {
   "codemirror_mode": {
    "name": "ipython",
    "version": 3
   },
   "file_extension": ".py",
   "mimetype": "text/x-python",
   "name": "python",
   "nbconvert_exporter": "python",
   "pygments_lexer": "ipython3",
   "version": "3.11.4"
  }
 },
 "nbformat": 4,
 "nbformat_minor": 5
}
