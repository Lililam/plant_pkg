{
 "cells": [
  {
   "cell_type": "markdown",
   "id": "52c60ac4",
   "metadata": {},
   "source": [
    "# 1. Campground class"
   ]
  },
  {
   "cell_type": "markdown",
   "id": "e8e844e9",
   "metadata": {},
   "source": [
    "#### a) Create Campground class"
   ]
  },
  {
   "cell_type": "code",
   "execution_count": 208,
   "id": "1876f9a9",
   "metadata": {},
   "outputs": [],
   "source": [
    "class Campground():\n",
    "    def __init__(self, name = \"\", park = \"\", capacity: int = 0):\n",
    "        self.name = name\n",
    "        self.parkname = park\n",
    "        self.capacity = capacity"
   ]
  },
  {
   "cell_type": "code",
   "execution_count": 209,
   "id": "163c2b03",
   "metadata": {},
   "outputs": [
    {
     "name": "stdout",
     "output_type": "stream",
     "text": [
      "Name: Platform\n",
      "Park: Yellowstone National Park\n",
      "Capacity: 100\n"
     ]
    }
   ],
   "source": [
    "Q1 = Campground(\"Platform\", \"Yellowstone National Park\", 100)\n",
    "print(\"Name:\", Q1.name)\n",
    "print(\"Park:\", Q1.parkname)\n",
    "print(\"Capacity:\", Q1.capacity)"
   ]
  },
  {
   "cell_type": "markdown",
   "id": "adb26d29",
   "metadata": {},
   "source": [
    "#### b) Add str method to the Campground class\n",
    "#### Add a method to Campground that returns a string with the following format: \" campground in has a capacity of .\"\n",
    "#### Create a Campground object and print its string representation using the str method."
   ]
  },
  {
   "cell_type": "code",
   "execution_count": 210,
   "id": "e157a6d1",
   "metadata": {},
   "outputs": [],
   "source": [
    "class Campground():\n",
    "    def __init__(self, name = \"\", park = \"\", capacity: int = 0):\n",
    "        self.name = name\n",
    "        self.parkname = park\n",
    "        self.capacity = capacity\n",
    "    def __str__(self):\n",
    "        return f\"{self.name} in {self.parkname} has a capacity of {self.capacity} spots\""
   ]
  },
  {
   "cell_type": "code",
   "execution_count": 211,
   "id": "1ab6f685",
   "metadata": {},
   "outputs": [
    {
     "name": "stdout",
     "output_type": "stream",
     "text": [
      "Platform in Yellowstone National Park has a capacity of 100 spots\n"
     ]
    }
   ],
   "source": [
    "Q1 = Campground(\"Platform\", \"Yellowstone National Park\", 100)\n",
    "print(Q1)"
   ]
  },
  {
   "cell_type": "markdown",
   "id": "a362b2ba",
   "metadata": {},
   "source": [
    "#### c) Create Campground objects\n",
    "#### Create 8 Campground objects using the following data and print their string representations:"
   ]
  },
  {
   "cell_type": "code",
   "execution_count": 212,
   "id": "674aeb1c",
   "metadata": {},
   "outputs": [
    {
     "name": "stdout",
     "output_type": "stream",
     "text": [
      "Bear Creek in Yellowstone has a capacity of 50 spots\n",
      "Eagle Nest in Yosemite has a capacity of 30 spots\n",
      "Deer Run in Grand Canyon has a capacity of 40 spots\n",
      "Wolf Den in Yellowstone has a capacity of 20 spots\n",
      "Rabbit Hole in Yosemite has a capacity of 15 spots\n",
      "Buffalo Range in Grand Canyon has a capacity of 60 spots\n",
      "Falcon Crest in Yellowstone has a capacity of 25 spots\n",
      "Turtle Beach in Yosemite has a capacity of 35 spots\n"
     ]
    }
   ],
   "source": [
    "campgrounds_data = [\n",
    "    {\"name\": \"Bear Creek\", \"park\": \"Yellowstone\", \"capacity\": 50},\n",
    "    {\"name\": \"Eagle Nest\", \"park\": \"Yosemite\", \"capacity\": 30},\n",
    "    {\"name\": \"Deer Run\", \"park\": \"Grand Canyon\", \"capacity\": 40},\n",
    "    {\"name\": \"Wolf Den\", \"park\": \"Yellowstone\", \"capacity\": 20},\n",
    "    {\"name\": \"Rabbit Hole\", \"park\": \"Yosemite\", \"capacity\": 15},\n",
    "    {\"name\": \"Buffalo Range\", \"park\": \"Grand Canyon\", \"capacity\": 60},\n",
    "    {\"name\": \"Falcon Crest\", \"park\": \"Yellowstone\", \"capacity\": 25},\n",
    "    {\"name\": \"Turtle Beach\", \"park\": \"Yosemite\", \"capacity\": 35}\n",
    "]\n",
    "for row in campgrounds_data:\n",
    "    QC = Campground(**row)\n",
    "    print(QC)"
   ]
  },
  {
   "cell_type": "markdown",
   "id": "5865f21e",
   "metadata": {},
   "source": [
    "#### d) Add and Remove Capacity\n",
    "#### Add methods to Campground that allow you to add and remove capacity. Ensure that the capacity never goes below 0 and provide appropriate feedback if an attempt is made to do so."
   ]
  },
  {
   "cell_type": "code",
   "execution_count": 213,
   "id": "5fb3bad4",
   "metadata": {},
   "outputs": [],
   "source": [
    "class Campground():\n",
    "    def __init__(self, name = \"\", park = \"\", capacity: int = 0):\n",
    "        self.name = name\n",
    "        self.parkname = park\n",
    "        self.capacity = capacity\n",
    "        assert isinstance(capacity, int) and capacity >= 0, f\"The capacity should never goes below 0.\"\n",
    "    def __str__(self):\n",
    "        return f\"{self.name} in {self.parkname} has a capacity of {self.capacity} spots\"\n",
    "    \n",
    "    def add_capacity(self, spots):\n",
    "        new_capacity = self.capacity + spots\n",
    "        if new_capacity >= 0:\n",
    "            self.capacity = new_capacity\n",
    "        else:\n",
    "            raise ValueError(\"Capacity should not go below 0.\")\n",
    "        \n",
    "    def remove_capacity(self, spots):\n",
    "        new_capacity = self.capacity - spots\n",
    "        if new_capacity >= 0:\n",
    "            self.capacity = new_capacity\n",
    "        else:\n",
    "            raise ValueError(\"Capacity should not go below 0.\")\n",
    "        "
   ]
  },
  {
   "cell_type": "code",
   "execution_count": 214,
   "id": "6c900e8f",
   "metadata": {},
   "outputs": [
    {
     "name": "stdout",
     "output_type": "stream",
     "text": [
      "Bear Creek in Yellowstone has a capacity of 50 spots\n"
     ]
    }
   ],
   "source": [
    "bear = Campground(name=\"Bear Creek\", park=\"Yellowstone\", capacity=50)\n",
    "print(bear)"
   ]
  },
  {
   "cell_type": "code",
   "execution_count": 215,
   "id": "60298146",
   "metadata": {},
   "outputs": [
    {
     "name": "stdout",
     "output_type": "stream",
     "text": [
      "Bear Creek in Yellowstone has a capacity of 60 spots\n"
     ]
    }
   ],
   "source": [
    "bear.add_capacity(10)\n",
    "print(bear)"
   ]
  },
  {
   "cell_type": "code",
   "execution_count": 216,
   "id": "58c648c7",
   "metadata": {},
   "outputs": [
    {
     "ename": "ValueError",
     "evalue": "Capacity should not go below 0.",
     "output_type": "error",
     "traceback": [
      "\u001b[0;31m---------------------------------------------------------------------------\u001b[0m",
      "\u001b[0;31mValueError\u001b[0m                                Traceback (most recent call last)",
      "Cell \u001b[0;32mIn[216], line 1\u001b[0m\n\u001b[0;32m----> 1\u001b[0m bear\u001b[38;5;241m.\u001b[39mremove_capacity(\u001b[38;5;241m70\u001b[39m)\n",
      "Cell \u001b[0;32mIn[213], line 22\u001b[0m, in \u001b[0;36mCampground.remove_capacity\u001b[0;34m(self, spots)\u001b[0m\n\u001b[1;32m     20\u001b[0m     \u001b[38;5;28mself\u001b[39m\u001b[38;5;241m.\u001b[39mcapacity \u001b[38;5;241m=\u001b[39m new_capacity\n\u001b[1;32m     21\u001b[0m \u001b[38;5;28;01melse\u001b[39;00m:\n\u001b[0;32m---> 22\u001b[0m     \u001b[38;5;28;01mraise\u001b[39;00m \u001b[38;5;167;01mValueError\u001b[39;00m(\u001b[38;5;124m\"\u001b[39m\u001b[38;5;124mCapacity should not go below 0.\u001b[39m\u001b[38;5;124m\"\u001b[39m)\n",
      "\u001b[0;31mValueError\u001b[0m: Capacity should not go below 0."
     ]
    }
   ],
   "source": [
    "bear.remove_capacity(70)"
   ]
  },
  {
   "cell_type": "markdown",
   "id": "387686b6",
   "metadata": {},
   "source": [
    "# 2. ReservationSystem class"
   ]
  },
  {
   "cell_type": "markdown",
   "id": "70dbff90",
   "metadata": {},
   "source": [
    "#### a) Create ReservationSystem class\n",
    "#### Create a class called ReservationSystem that takes a list of Campground objects as an argument during initialization.\n",
    "#### Demonstrate the initialization by creating a ReservationSystem object using the campgrounds created in 1c) and print the object's attributes."
   ]
  },
  {
   "cell_type": "code",
   "execution_count": 217,
   "id": "e86fd09e",
   "metadata": {},
   "outputs": [],
   "source": [
    "class ReservationSystem(Campground):\n",
    "    def __init__(self,name = \"\", park = \"\", capacity: int = 0):\n",
    "        Campground.__init__(self,name, park, capacity)"
   ]
  },
  {
   "cell_type": "code",
   "execution_count": 218,
   "id": "c045ee98",
   "metadata": {},
   "outputs": [
    {
     "name": "stdout",
     "output_type": "stream",
     "text": [
      "Bear Creek in Yellowstone has a capacity of 50 spots\n",
      "Eagle Nest in Yosemite has a capacity of 30 spots\n",
      "Deer Run in Grand Canyon has a capacity of 40 spots\n",
      "Wolf Den in Yellowstone has a capacity of 20 spots\n",
      "Rabbit Hole in Yosemite has a capacity of 15 spots\n",
      "Buffalo Range in Grand Canyon has a capacity of 60 spots\n",
      "Falcon Crest in Yellowstone has a capacity of 25 spots\n",
      "Turtle Beach in Yosemite has a capacity of 35 spots\n"
     ]
    }
   ],
   "source": [
    "for row in campgrounds_data:\n",
    "    Q2 = ReservationSystem(**row)\n",
    "    print(Q2)"
   ]
  },
  {
   "cell_type": "markdown",
   "id": "0dd72696",
   "metadata": {},
   "source": [
    "#### b) Check Campground Availability"
   ]
  },
  {
   "cell_type": "code",
   "execution_count": 219,
   "id": "6986ee65",
   "metadata": {},
   "outputs": [],
   "source": [
    "class ReservationSystem(Campground):\n",
    "    def __init__(self,name = \"\", park = \"\", capacity: int = 0):\n",
    "        Campground.__init__(self,name, park, capacity)\n",
    "    def check_availability(self, spot):\n",
    "        if spot > self.capacity:\n",
    "            ava = False\n",
    "            return \"There is not enough capacity.\"\n",
    "        else:\n",
    "            ava = True\n",
    "            return \"There is enough capacity.\""
   ]
  },
  {
   "cell_type": "code",
   "execution_count": 220,
   "id": "66979992",
   "metadata": {},
   "outputs": [
    {
     "data": {
      "text/plain": [
       "'There is not enough capacity.'"
      ]
     },
     "execution_count": 220,
     "metadata": {},
     "output_type": "execute_result"
    }
   ],
   "source": [
    "eagle = ReservationSystem(\"Eagle Nest\", \"Yosemite\", 30)\n",
    "eagle.check_availability(35)"
   ]
  },
  {
   "cell_type": "markdown",
   "id": "3608fd82",
   "metadata": {},
   "source": [
    "#### c) Total Capacity by Park"
   ]
  },
  {
   "cell_type": "code",
   "execution_count": 221,
   "id": "bb5f56fc",
   "metadata": {},
   "outputs": [],
   "source": [
    "class ReservationSystem(Campground):\n",
    "    def __init__(self, campgrounds):\n",
    "        self.campgrounds = campgrounds\n",
    "        \n",
    "    def check_availability(self, spot):\n",
    "        if spot > self.capacity:\n",
    "            ava = False\n",
    "            return \"There is not enough capacity.\"\n",
    "        else:\n",
    "            ava = True\n",
    "            return \"There is enough capacity.\"\n",
    "        \n",
    "    def total_capacity_by_park(self, parkname):\n",
    "        total_capacity = 0\n",
    "        for campground in self.campgrounds:\n",
    "            if campground.parkname == parkname:\n",
    "                total_capacity += campground.capacity\n",
    "        return total_capacity"
   ]
  },
  {
   "cell_type": "code",
   "execution_count": 222,
   "id": "1d0c9e33",
   "metadata": {},
   "outputs": [],
   "source": [
    "campgrounds = [Campground(**row) for row in campgrounds_data]\n",
    "system = ReservationSystem(campgrounds)"
   ]
  },
  {
   "cell_type": "code",
   "execution_count": 223,
   "id": "2658aede",
   "metadata": {},
   "outputs": [],
   "source": [
    "total_yellowstone = system.total_capacity_by_park(\"Yellowstone\")"
   ]
  },
  {
   "cell_type": "code",
   "execution_count": 224,
   "id": "f9439cfc",
   "metadata": {},
   "outputs": [
    {
     "name": "stdout",
     "output_type": "stream",
     "text": [
      "95\n"
     ]
    }
   ],
   "source": [
    "print(total_yellowstone)"
   ]
  },
  {
   "cell_type": "code",
   "execution_count": null,
   "id": "8914ed20",
   "metadata": {},
   "outputs": [],
   "source": []
  },
  {
   "cell_type": "code",
   "execution_count": null,
   "id": "eabbac9c",
   "metadata": {},
   "outputs": [],
   "source": []
  },
  {
   "cell_type": "code",
   "execution_count": null,
   "id": "5813bfb1",
   "metadata": {},
   "outputs": [],
   "source": []
  },
  {
   "cell_type": "code",
   "execution_count": null,
   "id": "e8322aae",
   "metadata": {},
   "outputs": [],
   "source": []
  }
 ],
 "metadata": {
  "kernelspec": {
   "display_name": "Python 3 (ipykernel)",
   "language": "python",
   "name": "python3"
  },
  "language_info": {
   "codemirror_mode": {
    "name": "ipython",
    "version": 3
   },
   "file_extension": ".py",
   "mimetype": "text/x-python",
   "name": "python",
   "nbconvert_exporter": "python",
   "pygments_lexer": "ipython3",
   "version": "3.11.4"
  }
 },
 "nbformat": 4,
 "nbformat_minor": 5
}
