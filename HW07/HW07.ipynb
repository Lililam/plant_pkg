{
 "cells": [
  {
   "cell_type": "markdown",
   "id": "7090060a",
   "metadata": {},
   "source": [
    "### 1. Share the link to your TestPyPi package and the repo of your package."
   ]
  },
  {
   "cell_type": "markdown",
   "id": "dd5cb054",
   "metadata": {},
   "source": [
    "https://test.pypi.org/project/prime_ll3707/"
   ]
  },
  {
   "cell_type": "markdown",
   "id": "d3a43e7f",
   "metadata": {},
   "source": [
    "### 2. Directly install your package from TestPyPi using !pip ...."
   ]
  },
  {
   "cell_type": "code",
   "execution_count": 1,
   "id": "0d107b7c",
   "metadata": {},
   "outputs": [
    {
     "name": "stdout",
     "output_type": "stream",
     "text": [
      "Looking in indexes: https://test.pypi.org/simple/\n",
      "Requirement already satisfied: prime_ll3707 in /Users/lily/anaconda3/lib/python3.11/site-packages (0.2.0)\n",
      "Requirement already satisfied: sphinx<8.0.0,>=7.2.6 in /Users/lily/anaconda3/lib/python3.11/site-packages (from prime_ll3707) (7.2.6)\n",
      "Requirement already satisfied: sphinxcontrib-applehelp in /Users/lily/anaconda3/lib/python3.11/site-packages (from sphinx<8.0.0,>=7.2.6->prime_ll3707) (1.0.2)\n",
      "Requirement already satisfied: sphinxcontrib-devhelp in /Users/lily/anaconda3/lib/python3.11/site-packages (from sphinx<8.0.0,>=7.2.6->prime_ll3707) (1.0.2)\n",
      "Requirement already satisfied: sphinxcontrib-jsmath in /Users/lily/anaconda3/lib/python3.11/site-packages (from sphinx<8.0.0,>=7.2.6->prime_ll3707) (1.0.1)\n",
      "Requirement already satisfied: sphinxcontrib-htmlhelp>=2.0.0 in /Users/lily/anaconda3/lib/python3.11/site-packages (from sphinx<8.0.0,>=7.2.6->prime_ll3707) (2.0.0)\n",
      "Requirement already satisfied: sphinxcontrib-serializinghtml>=1.1.9 in /Users/lily/anaconda3/lib/python3.11/site-packages (from sphinx<8.0.0,>=7.2.6->prime_ll3707) (1.1.9)\n",
      "Requirement already satisfied: sphinxcontrib-qthelp in /Users/lily/anaconda3/lib/python3.11/site-packages (from sphinx<8.0.0,>=7.2.6->prime_ll3707) (1.0.3)\n",
      "Requirement already satisfied: Jinja2>=3.0 in /Users/lily/anaconda3/lib/python3.11/site-packages (from sphinx<8.0.0,>=7.2.6->prime_ll3707) (3.1.2)\n",
      "Requirement already satisfied: Pygments>=2.14 in /Users/lily/anaconda3/lib/python3.11/site-packages (from sphinx<8.0.0,>=7.2.6->prime_ll3707) (2.15.1)\n",
      "Requirement already satisfied: docutils<0.21,>=0.18.1 in /Users/lily/anaconda3/lib/python3.11/site-packages (from sphinx<8.0.0,>=7.2.6->prime_ll3707) (0.18.1)\n",
      "Requirement already satisfied: snowballstemmer>=2.0 in /Users/lily/anaconda3/lib/python3.11/site-packages (from sphinx<8.0.0,>=7.2.6->prime_ll3707) (2.2.0)\n",
      "Requirement already satisfied: babel>=2.9 in /Users/lily/anaconda3/lib/python3.11/site-packages (from sphinx<8.0.0,>=7.2.6->prime_ll3707) (2.11.0)\n",
      "Requirement already satisfied: alabaster<0.8,>=0.7 in /Users/lily/anaconda3/lib/python3.11/site-packages (from sphinx<8.0.0,>=7.2.6->prime_ll3707) (0.7.12)\n",
      "Requirement already satisfied: imagesize>=1.3 in /Users/lily/anaconda3/lib/python3.11/site-packages (from sphinx<8.0.0,>=7.2.6->prime_ll3707) (1.4.1)\n",
      "Requirement already satisfied: requests>=2.25.0 in /Users/lily/anaconda3/lib/python3.11/site-packages (from sphinx<8.0.0,>=7.2.6->prime_ll3707) (2.31.0)\n",
      "Requirement already satisfied: packaging>=21.0 in /Users/lily/anaconda3/lib/python3.11/site-packages (from sphinx<8.0.0,>=7.2.6->prime_ll3707) (23.2)\n",
      "Requirement already satisfied: pytz>=2015.7 in /Users/lily/anaconda3/lib/python3.11/site-packages (from babel>=2.9->sphinx<8.0.0,>=7.2.6->prime_ll3707) (2022.7)\n",
      "Requirement already satisfied: MarkupSafe>=2.0 in /Users/lily/anaconda3/lib/python3.11/site-packages (from Jinja2>=3.0->sphinx<8.0.0,>=7.2.6->prime_ll3707) (2.1.1)\n",
      "Requirement already satisfied: charset-normalizer<4,>=2 in /Users/lily/anaconda3/lib/python3.11/site-packages (from requests>=2.25.0->sphinx<8.0.0,>=7.2.6->prime_ll3707) (3.3.1)\n",
      "Requirement already satisfied: idna<4,>=2.5 in /Users/lily/anaconda3/lib/python3.11/site-packages (from requests>=2.25.0->sphinx<8.0.0,>=7.2.6->prime_ll3707) (3.4)\n",
      "Requirement already satisfied: urllib3<3,>=1.21.1 in /Users/lily/anaconda3/lib/python3.11/site-packages (from requests>=2.25.0->sphinx<8.0.0,>=7.2.6->prime_ll3707) (2.0.7)\n",
      "Requirement already satisfied: certifi>=2017.4.17 in /Users/lily/anaconda3/lib/python3.11/site-packages (from requests>=2.25.0->sphinx<8.0.0,>=7.2.6->prime_ll3707) (2023.7.22)\n"
     ]
    }
   ],
   "source": [
    "! pip install -i https://test.pypi.org/simple/ prime_ll3707"
   ]
  },
  {
   "cell_type": "markdown",
   "id": "f60713f0",
   "metadata": {},
   "source": [
    "### 3. Import your package."
   ]
  },
  {
   "cell_type": "code",
   "execution_count": 2,
   "id": "f7516a2f",
   "metadata": {},
   "outputs": [],
   "source": [
    "import prime_ll3707"
   ]
  },
  {
   "cell_type": "markdown",
   "id": "db8cfe26",
   "metadata": {},
   "source": [
    "### 4. Execute the is_prime function with a sample input."
   ]
  },
  {
   "cell_type": "code",
   "execution_count": 3,
   "id": "a91efd42",
   "metadata": {},
   "outputs": [],
   "source": [
    "from prime_ll3707.prime_ll3707 import is_prime"
   ]
  },
  {
   "cell_type": "code",
   "execution_count": 4,
   "id": "9f7bca18",
   "metadata": {},
   "outputs": [
    {
     "name": "stdout",
     "output_type": "stream",
     "text": [
      "False\n",
      "True\n"
     ]
    }
   ],
   "source": [
    "print(is_prime(6))  \n",
    "print(is_prime(2)) "
   ]
  },
  {
   "cell_type": "markdown",
   "id": "1bd91cce",
   "metadata": {},
   "source": [
    "### 5. Display the output of help() and help(.is_prime)."
   ]
  },
  {
   "cell_type": "code",
   "execution_count": null,
   "id": "f239f797",
   "metadata": {},
   "outputs": [],
   "source": [
    "help(prime_mx2283)"
   ]
  }
 ],
 "metadata": {
  "kernelspec": {
   "display_name": "Python 3 (ipykernel)",
   "language": "python",
   "name": "python3"
  },
  "language_info": {
   "codemirror_mode": {
    "name": "ipython",
    "version": 3
   },
   "file_extension": ".py",
   "mimetype": "text/x-python",
   "name": "python",
   "nbconvert_exporter": "python",
   "pygments_lexer": "ipython3",
   "version": "3.11.4"
  }
 },
 "nbformat": 4,
 "nbformat_minor": 5
}
